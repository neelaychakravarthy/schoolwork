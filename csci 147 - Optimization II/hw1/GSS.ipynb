{
 "cells": [
  {
   "cell_type": "code",
   "execution_count": 58,
   "id": "38a8051b",
   "metadata": {},
   "outputs": [],
   "source": [
    "# Homework 1, MATH/CSCI 147, due Friday 8/12/24\n",
    "# NEELAY CHAKRAVARTHY\n",
    "\n",
    "# TODO: Tinker with values for these global variables as you experiment!\n",
    "\n",
    "import random\n",
    "import time\n",
    "import math\n",
    "\n",
    "a0 = 0\n",
    "d0 = 1000 # size of initial search domain\n",
    "count = 0 # test code should set this to zero before every run of any algorithm\n",
    "opt = 0 # test code should randomize this before each run\n",
    "x_tol = 1 # stopping condition for all algorithms\n",
    "epsilon = .01 # for binary_search\n",
    "beta = 1.5-math.sqrt(5)/2 # for golden_section_search\n",
    "\n",
    "eval_time = 1 # amount of time it takes to evaluate f - default .1\n",
    "other_time = 0.0001 # amount of time it takes to access the lookup table - default .01\n",
    "\n",
    "def f(x):\n",
    "    time.sleep(eval_time) # delay \n",
    "    global count\n",
    "    count += 1\n",
    "    if x-opt>0: return x-opt\n",
    "    return opt-x\n",
    "\n",
    "\n",
    "def get_f_eval(x,f_table):\n",
    "    time.sleep(other_time) # delay\n",
    "    if x in f_table:\n",
    "        #print(\"found\") # may use this for debugging/experimenting\n",
    "        return f_table[x]\n",
    "    fx = f(x)\n",
    "    f_table[x] = fx\n",
    "    return fx\n"
   ]
  },
  {
   "cell_type": "code",
   "execution_count": 52,
   "id": "25906346",
   "metadata": {},
   "outputs": [],
   "source": [
    "# Implement these three algorithms\n",
    "\n",
    "def ternary_search(a,d):\n",
    "    if (d-a) < x_tol:\n",
    "        if (f(a) < f(d)):\n",
    "            return a\n",
    "        else:\n",
    "            return d\n",
    "    b = a + (d-a)/3\n",
    "    c = d - (d-a)/3\n",
    "    if f(b) > f(c):\n",
    "        return ternary_search(b, d)\n",
    "    else:\n",
    "        return ternary_search(a, c)\n",
    "\n",
    "def binary_search(a,d):\n",
    "    if(d-a) < x_tol:\n",
    "        if(f(a) < f(d)):\n",
    "            return a\n",
    "        else:\n",
    "            return d\n",
    "    b = a + (d-a)/2 - epsilon\n",
    "    c = d - (d-a)/2 + epsilon\n",
    "    if f(b) > f(c):\n",
    "        return binary_search(b, d)\n",
    "    else:\n",
    "        return binary_search(a, c)\n",
    "\n",
    "def golden_section_search(a,d,f_table):\n",
    "    if(d-a) < x_tol:\n",
    "        if(get_f_eval(a, f_table) < get_f_eval(d, f_table)):\n",
    "            return a\n",
    "        else:\n",
    "            return d\n",
    "    b = a + beta*(d-a)\n",
    "    c = d - beta*(d-a)\n",
    "    if get_f_eval(b, f_table) > get_f_eval(c, f_table):\n",
    "        return golden_section_search(b, d, f_table)\n",
    "    else:\n",
    "        return golden_section_search(a, c, f_table)"
   ]
  },
  {
   "cell_type": "code",
   "execution_count": 53,
   "id": "f24ac81c-5b65-4149-9481-0249ef67a15c",
   "metadata": {},
   "outputs": [
    {
     "name": "stdout",
     "output_type": "stream",
     "text": [
      "argmin f(x) =  4470.837936747412\n",
      "Ternary returned opt at 4471.239749334622\n",
      "48 evaluations used and 5.006284713745117 seconds taken\n"
     ]
    }
   ],
   "source": [
    "global count\n",
    "count = 0 \n",
    "global opt\n",
    "opt = random.uniform(a0,d0) # randomize the function\n",
    "print(\"argmin f(x) = \",opt) # optional output code to know you are starting\n",
    "start_time = time.time() # start runtime timer\n",
    "opt_found = ternary_search(a0,d0) # run the algorithm\n",
    "runtime = time.time()-start_time\n",
    "print(\"Ternary returned opt at\",opt_found) # optional output code for debugging\n",
    "print(count,\"evaluations used and\",runtime,\"seconds taken\") # runtime stats"
   ]
  },
  {
   "cell_type": "code",
   "execution_count": 54,
   "id": "175c4451-b51a-4c92-b974-042231dfb4a7",
   "metadata": {},
   "outputs": [
    {
     "name": "stdout",
     "output_type": "stream",
     "text": [
      "argmin f(x) =  8082.186896107713\n",
      "Binary returned opt at 8082.279226074219\n",
      "30 evaluations used and 3.139822244644165 seconds taken\n"
     ]
    }
   ],
   "source": [
    "global count\n",
    "count = 0 \n",
    "global opt\n",
    "opt = random.uniform(a0,d0) # randomize the function\n",
    "print(\"argmin f(x) = \",opt) # optional output code to know you are starting\n",
    "start_time = time.time() # start runtime timer\n",
    "opt_found = binary_search(a0,d0) # run the algorithm\n",
    "runtime = time.time()-start_time\n",
    "print(\"Binary returned opt at\",opt_found) # optional output code for debugging\n",
    "print(count,\"evaluations used and\",runtime,\"seconds taken\") # runtime stats"
   ]
  },
  {
   "cell_type": "code",
   "execution_count": 59,
   "id": "0e336646",
   "metadata": {},
   "outputs": [
    {
     "name": "stdout",
     "output_type": "stream",
     "text": [
      "argmin f(x) =  867.6372351078047\n",
      "GSS returned opt at 867.9907211819668\n",
      "22 evaluations used and 22.09094500541687 seconds taken\n"
     ]
    }
   ],
   "source": [
    "# TODO: Modify find_min and write more complex scripts to test the efficiency of \n",
    "# the three variations of Golden section search you implemented in the previous cell.\n",
    "\n",
    "def find_min():\n",
    "    # set function evaluation counter to zero before each run of any search algorithm\n",
    "    global count\n",
    "    count = 0 \n",
    "    global opt\n",
    "    opt = random.uniform(a0,d0) # randomize the function\n",
    "    print(\"argmin f(x) = \",opt) # optional output code to know you are starting\n",
    "    start_time = time.time() # start runtime timer\n",
    "    f_table = {} #{a0:f(a0),d0:f(d0)} # note: this is not necessary if we assume an interior min\n",
    "    opt_found = golden_section_search(a0,d0,f_table) # run the algorithm\n",
    "    runtime = time.time()-start_time\n",
    "    print(\"GSS returned opt at\",opt_found) # optional output code for debugging\n",
    "    print(count,\"evaluations used and\",runtime,\"seconds taken\") # runtime stats\n",
    "\n",
    "find_min()"
   ]
  },
  {
   "cell_type": "code",
   "execution_count": null,
   "id": "09624d71-a678-445e-9370-90ae3afe714a",
   "metadata": {},
   "outputs": [],
   "source": []
  }
 ],
 "metadata": {
  "kernelspec": {
   "display_name": "Python 3 (ipykernel)",
   "language": "python",
   "name": "python3"
  },
  "language_info": {
   "codemirror_mode": {
    "name": "ipython",
    "version": 3
   },
   "file_extension": ".py",
   "mimetype": "text/x-python",
   "name": "python",
   "nbconvert_exporter": "python",
   "pygments_lexer": "ipython3",
   "version": "3.11.5"
  }
 },
 "nbformat": 4,
 "nbformat_minor": 5
}
