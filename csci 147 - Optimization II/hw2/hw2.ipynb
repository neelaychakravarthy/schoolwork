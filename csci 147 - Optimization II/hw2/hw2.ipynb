{
 "cells": [
  {
   "cell_type": "markdown",
   "id": "04a4277d-0565-45e8-a5b1-23ea3d4cadd7",
   "metadata": {},
   "source": [
    "## Task 1\n",
    "\n",
    "Given: f(x) = cos^2(x) + 1/3(x-2)^2 + 1 (OPT = (1.67, 1.046)\n",
    "\n",
    "Iteration 1: \n",
    "    \n",
    "    a0 = 1 => f(a0) = 1.625,\n",
    "    a1 = 0 => f(a1) = 3.333\n",
    "\n",
    "Give the next 3 iterations of Nelder Mead Simplex Method. "
   ]
  },
  {
   "cell_type": "markdown",
   "id": "71ed7de9-5b98-495c-871e-bb0600e83e67",
   "metadata": {},
   "source": [
    "Iteration 2: \n",
    "    \n",
    "    a0 = 2 =>  f(a0) = 1.173,\n",
    "    a1 = 1 => f(a1) = 1.625\n",
    "    \n",
    "Iteration 3: \n",
    "\n",
    "    a0 = 1.5 => f(a0) = 1.088,\n",
    "    a1 = 2 => f(a1) = 1.173\n",
    "    \n",
    "Iteration 4: \n",
    "\n",
    "    a0 = 1.75 => f(a0) = 1.053,\n",
    "    a1 = 1.5 => f(a1) = 1.088"
   ]
  },
  {
   "cell_type": "markdown",
   "id": "4a06d240-6e40-4bde-a389-8fd263308c4c",
   "metadata": {},
   "source": [
    "## Task 2\n",
    "\n",
    "Given the first iteration, \n",
    "\n",
    "Iteration 1: \n",
    "\n",
    "    a0 = [0, 0, 1] => f(a0) = 9,\n",
    "    a1 = [0, 1, 0] => f(a1) = 11, \n",
    "    a2 = [1, 0, 0] => f(a2) = 13, \n",
    "    a3 = [0, 0, 0] => f(a3) = 14\n",
    "\n",
    "give the next two iterations for f(x) = (x_1 - 1)^2 + (x_2 - 2)^2 + (x_3 - 3)^2. Determine x_min."
   ]
  },
  {
   "cell_type": "markdown",
   "id": "267309a9-9c8b-4f1b-bca8-cc3bd817d253",
   "metadata": {},
   "source": [
    "Iteration 2:\n",
    "\n",
    "    a0 = [1, 1, 1] => f(a0) = 5\n",
    "    a1 = [0, 0, 1] => f(a1) = 9\n",
    "    a2 = [0, 1, 0] => f(a2) = 11\n",
    "    a3 = [1, 0, 0] => f(a3) = 13\n",
    "\n",
    "Iteration 3:\n",
    "\n",
    "    a0 = [-1/3, 4/3, 4/3] => f(a0) = 5\n",
    "    a1 = [1, 1, 1] => f(a2) = 5\n",
    "    a2 = [0, 0, 1] => f(a2) = 9\n",
    "    a3 = [0, 1, 0] => f(a3) = 11\n",
    "\n",
    "The x_min of f(x) is (1, 2, 3), which our simplex is moving towards. "
   ]
  }
 ],
 "metadata": {
  "kernelspec": {
   "display_name": "Python 3 (ipykernel)",
   "language": "python",
   "name": "python3"
  },
  "language_info": {
   "codemirror_mode": {
    "name": "ipython",
    "version": 3
   },
   "file_extension": ".py",
   "mimetype": "text/x-python",
   "name": "python",
   "nbconvert_exporter": "python",
   "pygments_lexer": "ipython3",
   "version": "3.11.5"
  }
 },
 "nbformat": 4,
 "nbformat_minor": 5
}
