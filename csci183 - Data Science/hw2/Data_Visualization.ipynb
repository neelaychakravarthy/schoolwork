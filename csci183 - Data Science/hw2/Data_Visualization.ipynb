{
 "cells": [
  {
   "cell_type": "code",
   "execution_count": 1,
   "metadata": {
    "colab": {
     "base_uri": "https://localhost:8080/",
     "height": 453
    },
    "executionInfo": {
     "elapsed": 132671,
     "status": "error",
     "timestamp": 1695328445560,
     "user": {
      "displayName": "Smita Ghosh",
      "userId": "03414359779313932529"
     },
     "user_tz": 420
    },
    "id": "h4G0MZqj9jSa",
    "outputId": "137a03f9-aeca-4f11-8525-b6ea9167fb60"
   },
   "outputs": [
    {
     "data": {
      "text/html": [
       "<div>\n",
       "<style scoped>\n",
       "    .dataframe tbody tr th:only-of-type {\n",
       "        vertical-align: middle;\n",
       "    }\n",
       "\n",
       "    .dataframe tbody tr th {\n",
       "        vertical-align: top;\n",
       "    }\n",
       "\n",
       "    .dataframe thead th {\n",
       "        text-align: right;\n",
       "    }\n",
       "</style>\n",
       "<table border=\"1\" class=\"dataframe\">\n",
       "  <thead>\n",
       "    <tr style=\"text-align: right;\">\n",
       "      <th></th>\n",
       "      <th>gender</th>\n",
       "      <th>situation</th>\n",
       "      <th>tea</th>\n",
       "      <th>coffee</th>\n",
       "      <th>height</th>\n",
       "      <th>weight</th>\n",
       "      <th>age</th>\n",
       "      <th>meat</th>\n",
       "      <th>fish</th>\n",
       "      <th>raw_fruit</th>\n",
       "      <th>cooked_fruit_veg</th>\n",
       "      <th>chocol</th>\n",
       "      <th>fat</th>\n",
       "    </tr>\n",
       "  </thead>\n",
       "  <tbody>\n",
       "    <tr>\n",
       "      <th>0</th>\n",
       "      <td>2</td>\n",
       "      <td>1</td>\n",
       "      <td>0</td>\n",
       "      <td>0</td>\n",
       "      <td>151</td>\n",
       "      <td>58</td>\n",
       "      <td>72</td>\n",
       "      <td>4</td>\n",
       "      <td>3</td>\n",
       "      <td>1</td>\n",
       "      <td>4</td>\n",
       "      <td>5</td>\n",
       "      <td>6</td>\n",
       "    </tr>\n",
       "    <tr>\n",
       "      <th>1</th>\n",
       "      <td>2</td>\n",
       "      <td>1</td>\n",
       "      <td>1</td>\n",
       "      <td>1</td>\n",
       "      <td>162</td>\n",
       "      <td>60</td>\n",
       "      <td>68</td>\n",
       "      <td>5</td>\n",
       "      <td>2</td>\n",
       "      <td>5</td>\n",
       "      <td>5</td>\n",
       "      <td>1</td>\n",
       "      <td>4</td>\n",
       "    </tr>\n",
       "    <tr>\n",
       "      <th>2</th>\n",
       "      <td>2</td>\n",
       "      <td>1</td>\n",
       "      <td>0</td>\n",
       "      <td>4</td>\n",
       "      <td>162</td>\n",
       "      <td>75</td>\n",
       "      <td>78</td>\n",
       "      <td>3</td>\n",
       "      <td>1</td>\n",
       "      <td>5</td>\n",
       "      <td>2</td>\n",
       "      <td>5</td>\n",
       "      <td>4</td>\n",
       "    </tr>\n",
       "    <tr>\n",
       "      <th>3</th>\n",
       "      <td>2</td>\n",
       "      <td>1</td>\n",
       "      <td>0</td>\n",
       "      <td>0</td>\n",
       "      <td>154</td>\n",
       "      <td>45</td>\n",
       "      <td>91</td>\n",
       "      <td>0</td>\n",
       "      <td>4</td>\n",
       "      <td>4</td>\n",
       "      <td>0</td>\n",
       "      <td>3</td>\n",
       "      <td>2</td>\n",
       "    </tr>\n",
       "    <tr>\n",
       "      <th>4</th>\n",
       "      <td>2</td>\n",
       "      <td>1</td>\n",
       "      <td>2</td>\n",
       "      <td>1</td>\n",
       "      <td>154</td>\n",
       "      <td>50</td>\n",
       "      <td>65</td>\n",
       "      <td>5</td>\n",
       "      <td>3</td>\n",
       "      <td>5</td>\n",
       "      <td>5</td>\n",
       "      <td>3</td>\n",
       "      <td>2</td>\n",
       "    </tr>\n",
       "  </tbody>\n",
       "</table>\n",
       "</div>"
      ],
      "text/plain": [
       "   gender  situation  tea  coffee  height  weight  age  meat  fish  raw_fruit  \\\n",
       "0       2          1    0       0     151      58   72     4     3          1   \n",
       "1       2          1    1       1     162      60   68     5     2          5   \n",
       "2       2          1    0       4     162      75   78     3     1          5   \n",
       "3       2          1    0       0     154      45   91     0     4          4   \n",
       "4       2          1    2       1     154      50   65     5     3          5   \n",
       "\n",
       "   cooked_fruit_veg  chocol  fat  \n",
       "0                 4       5    6  \n",
       "1                 5       1    4  \n",
       "2                 2       5    4  \n",
       "3                 0       3    2  \n",
       "4                 5       3    2  "
      ]
     },
     "execution_count": 1,
     "metadata": {},
     "output_type": "execute_result"
    }
   ],
   "source": [
    "# ----------FEATURE DATA TYPES-----------#\n",
    "\n",
    "import pandas as pd\n",
    "\n",
    "# Results of study involving nutritional measurements \n",
    "# thirteen features (columns) for 226 elderly individuals (rows).\n",
    "\n",
    "xls = 'nutrition_elderly.xls'\n",
    "\n",
    "nutri = pd.read_excel(xls)\n",
    "\n",
    "nutri.head()"
   ]
  },
  {
   "cell_type": "code",
   "execution_count": 2,
   "metadata": {},
   "outputs": [
    {
     "name": "stdout",
     "output_type": "stream",
     "text": [
      "<class 'pandas.core.frame.DataFrame'>\n",
      "RangeIndex: 226 entries, 0 to 225\n",
      "Data columns (total 13 columns):\n",
      " #   Column            Non-Null Count  Dtype\n",
      "---  ------            --------------  -----\n",
      " 0   gender            226 non-null    int64\n",
      " 1   situation         226 non-null    int64\n",
      " 2   tea               226 non-null    int64\n",
      " 3   coffee            226 non-null    int64\n",
      " 4   height            226 non-null    int64\n",
      " 5   weight            226 non-null    int64\n",
      " 6   age               226 non-null    int64\n",
      " 7   meat              226 non-null    int64\n",
      " 8   fish              226 non-null    int64\n",
      " 9   raw_fruit         226 non-null    int64\n",
      " 10  cooked_fruit_veg  226 non-null    int64\n",
      " 11  chocol            226 non-null    int64\n",
      " 12  fat               226 non-null    int64\n",
      "dtypes: int64(13)\n",
      "memory usage: 23.1 KB\n"
     ]
    }
   ],
   "source": [
    "nutri.info()"
   ]
  },
  {
   "cell_type": "code",
   "execution_count": 3,
   "metadata": {
    "colab": {
     "base_uri": "https://localhost:8080/",
     "height": 143
    },
    "executionInfo": {
     "elapsed": 208,
     "status": "ok",
     "timestamp": 1694466177316,
     "user": {
      "displayName": "Smita Ghosh",
      "userId": "03414359779313932529"
     },
     "user_tz": 420
    },
    "id": "Lh4D4WrhDFh4",
    "outputId": "9ea6f6be-ea75-4a42-e4b3-a609c5de1a9b"
   },
   "outputs": [
    {
     "data": {
      "text/plain": [
       "count    226.000000\n",
       "mean       3.814159\n",
       "std        1.473009\n",
       "min        1.000000\n",
       "25%        3.000000\n",
       "50%        4.000000\n",
       "75%        5.000000\n",
       "max        8.000000\n",
       "Name: fat, dtype: float64"
      ]
     },
     "execution_count": 3,
     "metadata": {},
     "output_type": "execute_result"
    }
   ],
   "source": [
    "# ----------SUMMARY TABLES-----------#\n",
    "\n",
    "nutri['fat'].describe()"
   ]
  },
  {
   "cell_type": "code",
   "execution_count": 4,
   "metadata": {},
   "outputs": [
    {
     "data": {
      "text/plain": [
       "4    68\n",
       "3    48\n",
       "5    40\n",
       "2    27\n",
       "6    23\n",
       "1    15\n",
       "8     4\n",
       "7     1\n",
       "Name: fat, dtype: int64"
      ]
     },
     "execution_count": 4,
     "metadata": {},
     "output_type": "execute_result"
    }
   ],
   "source": [
    "nutri['fat'].value_counts()"
   ]
  },
  {
   "cell_type": "code",
   "execution_count": 5,
   "metadata": {},
   "outputs": [
    {
     "data": {
      "text/html": [
       "<div>\n",
       "<style scoped>\n",
       "    .dataframe tbody tr th:only-of-type {\n",
       "        vertical-align: middle;\n",
       "    }\n",
       "\n",
       "    .dataframe tbody tr th {\n",
       "        vertical-align: top;\n",
       "    }\n",
       "\n",
       "    .dataframe thead th {\n",
       "        text-align: right;\n",
       "    }\n",
       "</style>\n",
       "<table border=\"1\" class=\"dataframe\">\n",
       "  <thead>\n",
       "    <tr style=\"text-align: right;\">\n",
       "      <th>situation</th>\n",
       "      <th>1</th>\n",
       "      <th>2</th>\n",
       "      <th>3</th>\n",
       "    </tr>\n",
       "    <tr>\n",
       "      <th>gender</th>\n",
       "      <th></th>\n",
       "      <th></th>\n",
       "      <th></th>\n",
       "    </tr>\n",
       "  </thead>\n",
       "  <tbody>\n",
       "    <tr>\n",
       "      <th>1</th>\n",
       "      <td>20</td>\n",
       "      <td>63</td>\n",
       "      <td>2</td>\n",
       "    </tr>\n",
       "    <tr>\n",
       "      <th>2</th>\n",
       "      <td>78</td>\n",
       "      <td>56</td>\n",
       "      <td>7</td>\n",
       "    </tr>\n",
       "  </tbody>\n",
       "</table>\n",
       "</div>"
      ],
      "text/plain": [
       "situation   1   2  3\n",
       "gender              \n",
       "1          20  63  2\n",
       "2          78  56  7"
      ]
     },
     "execution_count": 5,
     "metadata": {},
     "output_type": "execute_result"
    }
   ],
   "source": [
    "pd.crosstab(nutri.gender , nutri.situation)"
   ]
  },
  {
   "cell_type": "code",
   "execution_count": 6,
   "metadata": {
    "id": "yC-WigPyGsrS"
   },
   "outputs": [],
   "source": [
    "# ----------DATA VISUALIZATION-----------#\n",
    "\n",
    "import matplotlib.pyplot as plt\n",
    "import pandas as pd\n",
    "import numpy as np"
   ]
  },
  {
   "cell_type": "code",
   "execution_count": 7,
   "metadata": {
    "colab": {
     "base_uri": "https://localhost:8080/",
     "height": 430
    },
    "executionInfo": {
     "elapsed": 383,
     "status": "ok",
     "timestamp": 1694470969278,
     "user": {
      "displayName": "Smita Ghosh",
      "userId": "03414359779313932529"
     },
     "user_tz": 420
    },
    "id": "qjpeASXjHG-a",
    "outputId": "0ec4f9ad-e5a6-4cf9-95e4-c9e4731e583c"
   },
   "outputs": [
    {
     "data": {
      "image/png": "[encoded data removed]",
      "text/plain": [
       "<Figure size 432x288 with 1 Axes>"
      ]
     },
     "metadata": {
      "needs_background": "light"
     },
     "output_type": "display_data"
    }
   ],
   "source": [
    "# Plotting Qualitative Variables\n",
    "\n",
    "width = 0.35 # the width of the bars\n",
    "x = [0, 0.8, 1.6] # the bar positions on x-axis\n",
    "situation_counts=nutri['situation'].value_counts()\n",
    "plt.bar(x, situation_counts , width, edgecolor = 'black')\n",
    "plt.xticks(x, situation_counts.index)\n",
    "plt.show()"
   ]
  },
  {
   "cell_type": "code",
   "execution_count": 8,
   "metadata": {
    "colab": {
     "base_uri": "https://localhost:8080/",
     "height": 449
    },
    "executionInfo": {
     "elapsed": 329,
     "status": "ok",
     "timestamp": 1694470971979,
     "user": {
      "displayName": "Smita Ghosh",
      "userId": "03414359779313932529"
     },
     "user_tz": 420
    },
    "id": "GcYgxXadH8bg",
    "outputId": "51819e5d-51e8-478f-8c2c-cfb5d0a8646d"
   },
   "outputs": [
    {
     "data": {
      "image/png": "[encoded data removed]",
      "text/plain": [
       "<Figure size 432x288 with 1 Axes>"
      ]
     },
     "metadata": {
      "needs_background": "light"
     },
     "output_type": "display_data"
    }
   ],
   "source": [
    "# Plotting Quantitative Variables\n",
    "\n",
    "# 1. Boxplot\n",
    "\n",
    "plt.boxplot(nutri['age'],widths=width,vert=False)\n",
    "plt.xlabel('age')\n",
    "plt.show()"
   ]
  },
  {
   "cell_type": "code",
   "execution_count": 9,
   "metadata": {
    "colab": {
     "base_uri": "https://localhost:8080/",
     "height": 449
    },
    "executionInfo": {
     "elapsed": 531,
     "status": "ok",
     "timestamp": 1694470975425,
     "user": {
      "displayName": "Smita Ghosh",
      "userId": "03414359779313932529"
     },
     "user_tz": 420
    },
    "id": "Br0jPXtJOlug",
    "outputId": "280786ea-1cc3-49a4-f081-257df5e9ee01"
   },
   "outputs": [
    {
     "data": {
      "image/png": "[encoded data removed]",
      "text/plain": [
       "<Figure size 432x288 with 1 Axes>"
      ]
     },
     "metadata": {
      "needs_background": "light"
     },
     "output_type": "display_data"
    }
   ],
   "source": [
    "# Plotting Quantitative Variables\n",
    "\n",
    "# 2. Histogram\n",
    "\n",
    "weights = np.ones_like(nutri.age)/nutri.age.count()\n",
    "plt.hist(nutri.age,bins=9,weights=None ,facecolor='cyan',\n",
    "edgecolor='black', linewidth=1)\n",
    "plt.xlabel('age')\n",
    "plt.ylabel('count')\n",
    "plt.show()"
   ]
  },
  {
   "cell_type": "code",
   "execution_count": 10,
   "metadata": {
    "colab": {
     "base_uri": "https://localhost:8080/",
     "height": 430
    },
    "executionInfo": {
     "elapsed": 442,
     "status": "ok",
     "timestamp": 1694470979462,
     "user": {
      "displayName": "Smita Ghosh",
      "userId": "03414359779313932529"
     },
     "user_tz": 420
    },
    "id": "Uz_7sZqaU4vo",
    "outputId": "5982c49d-1a76-4617-bad8-3a93e1e2b038"
   },
   "outputs": [
    {
     "data": {
      "image/png": "[encoded data removed]",
      "text/plain": [
       "<Figure size 432x288 with 1 Axes>"
      ]
     },
     "metadata": {
      "needs_background": "light"
     },
     "output_type": "display_data"
    }
   ],
   "source": [
    "# Data Visualization in a Bivariate Setting\n",
    "\n",
    "# 1. Two-way Plots for Two Categorical Variables\n",
    "\n",
    "import seaborn as sns\n",
    "sns.countplot(x='situation', hue = 'gender', data=nutri,\n",
    "hue_order = [1, 2], palette = ['SkyBlue','Pink'],\n",
    "saturation = 1, edgecolor='black')\n",
    "plt.legend(loc='upper center')\n",
    "plt.xlabel('')\n",
    "plt.ylabel('Counts')\n",
    "plt.show()"
   ]
  },
  {
   "cell_type": "code",
   "execution_count": 11,
   "metadata": {
    "colab": {
     "base_uri": "https://localhost:8080/",
     "height": 449
    },
    "executionInfo": {
     "elapsed": 485,
     "status": "ok",
     "timestamp": 1694471665702,
     "user": {
      "displayName": "Smita Ghosh",
      "userId": "03414359779313932529"
     },
     "user_tz": 420
    },
    "id": "D6rPu93UYOAF",
    "outputId": "f0deffc4-e0c6-4f4b-adff-02c170096aaf"
   },
   "outputs": [
    {
     "data": {
      "image/png": "[encoded data removed]",
      "text/plain": [
       "<Figure size 432x288 with 1 Axes>"
      ]
     },
     "metadata": {
      "needs_background": "light"
     },
     "output_type": "display_data"
    }
   ],
   "source": [
    "# Data Visualization in a Bivariate Setting\n",
    "\n",
    "# 2. Plots for Two Quantitative Variables\n",
    "\n",
    "plt.scatter(nutri.height , nutri.weight , s=12, marker='o')\n",
    "plt.xlabel('height')\n",
    "plt.ylabel('weight')\n",
    "plt.show()"
   ]
  },
  {
   "cell_type": "code",
   "execution_count": 12,
   "metadata": {
    "colab": {
     "base_uri": "https://localhost:8080/",
     "height": 449
    },
    "executionInfo": {
     "elapsed": 746,
     "status": "ok",
     "timestamp": 1694472264163,
     "user": {
      "displayName": "Smita Ghosh",
      "userId": "03414359779313932529"
     },
     "user_tz": 420
    },
    "id": "v03LtnVQalek",
    "outputId": "2443a64c-2ab5-4297-c636-c63c5eee9b92"
   },
   "outputs": [
    {
     "data": {
      "image/png": "[encoded data removed]",
      "text/plain": [
       "<Figure size 432x288 with 1 Axes>"
      ]
     },
     "metadata": {
      "needs_background": "light"
     },
     "output_type": "display_data"
    }
   ],
   "source": [
    "# Data Visualization in a Bivariate Setting\n",
    "\n",
    "# 3. Plots for One Qualitative and One Quantitative Variable\n",
    "\n",
    "\n",
    "males = nutri[nutri.gender == 1]\n",
    "females = nutri[nutri.gender == 2]\n",
    "plt.boxplot([males.coffee ,females.coffee],notch=True,widths\n",
    "=(0.5,0.5))\n",
    "plt.xlabel('gender')\n",
    "plt.ylabel('coffee')\n",
    "plt.xticks([1,2],['Male','Female'])\n",
    "plt.show()"
   ]
  }
 ],
 "metadata": {
  "colab": {
   "authorship_tag": "ABX9TyNl1qMZsEeLk9zvJuS81K9+",
   "provenance": []
  },
  "kernelspec": {
   "display_name": "Python 3 (ipykernel)",
   "language": "python",
   "name": "python3"
  },
  "language_info": {
   "codemirror_mode": {
    "name": "ipython",
    "version": 3
   },
   "file_extension": ".py",
   "mimetype": "text/x-python",
   "name": "python",
   "nbconvert_exporter": "python",
   "pygments_lexer": "ipython3",
   "version": "3.11.5"
  }
 },
 "nbformat": 4,
 "nbformat_minor": 4
}
