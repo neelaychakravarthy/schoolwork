{
 "cells": [
  {
   "cell_type": "code",
   "execution_count": 6,
   "id": "b27960e4",
   "metadata": {},
   "outputs": [
    {
     "name": "stdout",
     "output_type": "stream",
     "text": [
      "Original 1D Data:\n",
      "[12000, 50000, 73600, 80000, 98000]\n",
      "\n",
      "Normalized 1D Data (default range 0 to 1):\n",
      "[2.         3.76744186 4.86511628 5.1627907  6.        ]\n"
     ]
    }
   ],
   "source": [
    "#Min-Max Normalization Example by MinMaxScaler\n",
    "\n",
    "import numpy as np\n",
    "from sklearn.preprocessing import MinMaxScaler\n",
    "\n",
    "# Example 1D data\n",
    "original_data_1d = [12000, 50000, 73600, 80000, 98000]\n",
    "\n",
    "# Reshape to 2D array\n",
    "original_data_2d = np.array(original_data_1d).reshape(-1, 1)\n",
    "\n",
    "# Define the custom range\n",
    "custom_range = (2, 6)\n",
    "\n",
    "# Create a MinMaxScaler instance with the custom range\n",
    "scaler = MinMaxScaler(feature_range=custom_range)\n",
    "\n",
    "# Fit and transform the data using the scaler\n",
    "normalized_data = scaler.fit_transform(original_data_2d)\n",
    "\n",
    "# Reshape back to 1D array (if needed)\n",
    "normalized_data_1d = normalized_data.flatten()\n",
    "\n",
    "# Display the results\n",
    "print(\"Original 1D Data:\")\n",
    "print(original_data_1d)\n",
    "print(\"\\nNormalized 1D Data (default range 0 to 1):\")\n",
    "print(normalized_data_1d)"
   ]
  },
  {
   "cell_type": "code",
   "execution_count": 10,
   "id": "a9f64e98",
   "metadata": {},
   "outputs": [
    {
     "name": "stdout",
     "output_type": "stream",
     "text": [
      "Original Data:\n",
      "[[2], [5], [8], [12], [15]]\n",
      "Z-Score Normalized Data:\n",
      "[[-1.36947358]\n",
      " [-0.72753284]\n",
      " [-0.0855921 ]\n",
      " [ 0.77032889]\n",
      " [ 1.41226963]]\n"
     ]
    }
   ],
   "source": [
    "#z-score Normalization Example by StandardScaler\n",
    "\n",
    "from sklearn.preprocessing import StandardScaler\n",
    "\n",
    "# Example data\n",
    "original_data = [[2], [5], [8], [12], [15]]\n",
    "\n",
    "# Create a StandardScaler instance\n",
    "scaler = StandardScaler()\n",
    "\n",
    "# Fit and transform the data using the scaler\n",
    "normalized_data = scaler.fit_transform(original_data)\n",
    "\n",
    "# Display the results\n",
    "print(\"Original Data:\")\n",
    "print(original_data)\n",
    "print(\"Z-Score Normalized Data:\")\n",
    "print(normalized_data)"
   ]
  },
  {
   "cell_type": "code",
   "execution_count": null,
   "id": "900fdce4",
   "metadata": {},
   "outputs": [],
   "source": []
  }
 ],
 "metadata": {
  "kernelspec": {
   "display_name": "Python 3 (ipykernel)",
   "language": "python",
   "name": "python3"
  },
  "language_info": {
   "codemirror_mode": {
    "name": "ipython",
    "version": 3
   },
   "file_extension": ".py",
   "mimetype": "text/x-python",
   "name": "python",
   "nbconvert_exporter": "python",
   "pygments_lexer": "ipython3",
   "version": "3.11.5"
  }
 },
 "nbformat": 4,
 "nbformat_minor": 5
}
