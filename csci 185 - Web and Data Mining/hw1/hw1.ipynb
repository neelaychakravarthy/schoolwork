{
 "cells": [
  {
   "cell_type": "code",
   "execution_count": 80,
   "id": "03387a6b-3ce4-4156-93e0-867ad0fff911",
   "metadata": {},
   "outputs": [],
   "source": [
    "#Name: Neelay Chakravarthy\n",
    "#Student ID: W1616223\n",
    "#Course: CSCI 185 - Web and Data Mining"
   ]
  },
  {
   "cell_type": "code",
   "execution_count": 1,
   "id": "999ec093-04a3-4cfe-bfa3-a458b6da86a3",
   "metadata": {},
   "outputs": [
    {
     "name": "stdout",
     "output_type": "stream",
     "text": [
      "[1, 2, 3, 4, 5]\n"
     ]
    }
   ],
   "source": [
    "#Task 1\n",
    "\n",
    "def task1():\n",
    "    items = [1, 2, 3, 4, 5]\n",
    "    print(items)\n",
    "task1()"
   ]
  },
  {
   "cell_type": "code",
   "execution_count": 81,
   "id": "e3df8c00-05f9-443d-94ee-4f3d8d416112",
   "metadata": {},
   "outputs": [],
   "source": [
    "#Task 2 - 1\n",
    "\n",
    "#Creating the file\n",
    "file = open(\"task2.data\", \"w\")\n",
    "file.write(\"1 2 3 4 5 6 7 8 9 10\")\n",
    "file.close()"
   ]
  },
  {
   "cell_type": "code",
   "execution_count": 3,
   "id": "4349c2ab-e534-4b6f-a21e-8db826a637e6",
   "metadata": {},
   "outputs": [
    {
     "name": "stdout",
     "output_type": "stream",
     "text": [
      "['1', '2', '3', '4', '5']\n",
      "['6', '7', '8', '9', '10']\n"
     ]
    }
   ],
   "source": [
    "#Task 2 - 2\n",
    "\n",
    "#Writing the function\n",
    "def task2():\n",
    "    file = open(\"task2.data\", \"r\")\n",
    "    data = file.read()\n",
    "    items = data.split(\" \")\n",
    "    items1 = items[:len(items)//2]\n",
    "    items2 = items[len(items)//2:]\n",
    "    print(items1)\n",
    "    print(items2)\n",
    "task2()"
   ]
  },
  {
   "cell_type": "code",
   "execution_count": 4,
   "id": "09eb9dc7-3ddb-4444-9095-9391347db636",
   "metadata": {},
   "outputs": [
    {
     "name": "stdout",
     "output_type": "stream",
     "text": [
      "school: UAlbany\n",
      "address: 1400 Washington Ave, Albany, NY 12222\n",
      "phone: (518) 442-3300\n"
     ]
    }
   ],
   "source": [
    "#Task 3\n",
    "\n",
    "#Creating the dictionary\n",
    "data = {'school': 'UAlbany', 'address': '1400 Washington Ave, Albany, NY 12222','phone': '(518) 442-3300'}\n",
    "\n",
    "#Printing the dictionary\n",
    "for key in data.keys():\n",
    "    print(key + \": \" + data[key])"
   ]
  },
  {
   "cell_type": "code",
   "execution_count": 5,
   "id": "05aef696-e9f4-460e-a207-7bb37a340480",
   "metadata": {},
   "outputs": [],
   "source": [
    "#Task 4-1\n",
    "import json\n",
    "\n",
    "#JSON Dumping\n",
    "file = open('task4.json', 'w')\n",
    "json.dump(data, file)\n",
    "file.close()"
   ]
  },
  {
   "cell_type": "code",
   "execution_count": 6,
   "id": "9a2b3670-bc35-428a-806b-8440d6036e7b",
   "metadata": {},
   "outputs": [
    {
     "name": "stdout",
     "output_type": "stream",
     "text": [
      "dict_items([('school', 'UAlbany'), ('address', '1400 Washington Ave, Albany, NY 12222'), ('phone', '(518) 442-3300')])\n",
      "dict_keys(['school', 'address', 'phone'])\n",
      "dict_values(['UAlbany', '1400 Washington Ave, Albany, NY 12222', '(518) 442-3300'])\n"
     ]
    }
   ],
   "source": [
    "#Task 4-2\n",
    "\n",
    "#JSON Loading\n",
    "file = open('task4.json', 'r')\n",
    "data = json.load(file)\n",
    "file.close()\n",
    "print(data.items())\n",
    "print(data.keys())\n",
    "print(data.values())"
   ]
  },
  {
   "cell_type": "code",
   "execution_count": 7,
   "id": "2a235152-fb70-4490-b664-e93a643b3023",
   "metadata": {},
   "outputs": [
    {
     "name": "stdout",
     "output_type": "stream",
     "text": [
      "['{\"school\": \"UAlbany\", \"address\": \"1400 Washington Ave, Albany, NY 12222\", \"phone\": \"(518) 442-3300\"}', '[1, 2, 3, 4, 5]']\n"
     ]
    }
   ],
   "source": [
    "#Task 5\n",
    "\n",
    "def task5():\n",
    "    #Dumping\n",
    "    file = open('task5.json', 'w')\n",
    "    json_dict = json.dumps(data)\n",
    "    items = [1, 2, 3, 4, 5]\n",
    "    json_items = json.dumps(items)\n",
    "    json_list = [json_dict, json_items]\n",
    "    json.dump(json_list, file, indent=2)\n",
    "    file.close()\n",
    "    \n",
    "    #Loading\n",
    "    file = open('task5.json', 'r')\n",
    "    print(json.load(file))\n",
    "    file.close()\n",
    "task5()"
   ]
  },
  {
   "cell_type": "code",
   "execution_count": 82,
   "id": "7638fa3f-6abf-4f0c-80e3-c72afbc31969",
   "metadata": {},
   "outputs": [
    {
     "name": "stdout",
     "output_type": "stream",
     "text": [
      "429129916446031872\n",
      "429117247307923456\n",
      "429315798893461505\n",
      "429079910091476992\n",
      "429030956888899584\n",
      "429152645702352896\n",
      "429016075921940481\n",
      "428898232690044928\n",
      "428956892602191873\n",
      "429111068368326656\n",
      "429167217976958976\n",
      "429379822314614785\n",
      "429235096919359488\n",
      "428986795586383872\n",
      "429238790310203392\n",
      "429509723516194817\n",
      "429509617756811264\n",
      "429509135437017089\n",
      "429509033045659648\n",
      "429508763708817408\n",
      "429508217303875584\n",
      "429508122604883969\n",
      "429507949934157824\n",
      "429507930975510528\n",
      "429507700716613632\n",
      "429507388056412160\n",
      "429507387393703936\n",
      "429507291763576832\n",
      "429506469214437376\n",
      "429506433801924608\n",
      "429506012626702336\n",
      "429505339621662720\n",
      "429505236148174848\n",
      "429505189544878081\n",
      "429505128605818880\n",
      "429505116433956864\n",
      "429504618939158528\n",
      "429503319321493504\n",
      "429503199959986177\n",
      "429502545145237504\n",
      "429502437460680704\n",
      "429502289481449472\n",
      "429502207763836929\n",
      "429502122015481856\n",
      "429501723934461952\n",
      "429501695442186240\n",
      "429501574805585920\n",
      "429501521940598784\n",
      "429501272786354176\n",
      "429501173670739968\n",
      "429500659553931264\n",
      "429500626821996544\n",
      "429500250303111168\n",
      "429499974507061248\n",
      "429499957083897856\n",
      "429499927874789376\n",
      "429499891593658368\n",
      "429499566778351616\n",
      "429499480954531841\n",
      "429499000081760256\n",
      "429498405837369344\n",
      "429498397167734784\n",
      "429497948267765760\n",
      "429497921277415426\n",
      "429497098531115008\n",
      "429496907191181312\n",
      "429496260790206467\n",
      "429496119207272448\n",
      "429495848548847616\n",
      "429495195319951361\n",
      "429495172859060224\n",
      "429494325622222848\n",
      "429493745243799552\n",
      "429493724763389953\n",
      "429493689216679936\n",
      "429493026323300352\n",
      "429492585606807552\n",
      "429492578195472384\n",
      "429492510801420288\n",
      "429492212674478080\n",
      "429491944268374016\n",
      "429491406961250305\n",
      "429490875685556224\n",
      "429489676513054720\n",
      "429489649082314752\n",
      "429489638408220672\n",
      "429489636746878976\n",
      "429489636444884992\n",
      "429489636423897090\n",
      "429489636386144256\n",
      "429489380147740672\n",
      "429488933169147904\n",
      "429488616197193730\n",
      "429488467572056064\n",
      "429488175862808576\n",
      "429488126608678912\n",
      "429487461878992897\n",
      "429487155757330432\n",
      "429487042423033856\n",
      "429486947955146752\n",
      "429486365659906048\n",
      "429485718771990528\n",
      "429485563507654656\n",
      "429485059242856448\n",
      "429484915839991808\n",
      "429484743227625472\n",
      "429484226082525184\n",
      "429484187171971072\n",
      "429483997932949504\n",
      "429483743066091521\n",
      "429483488165654528\n",
      "429482862300397568\n",
      "429482630036205568\n",
      "429482200552067073\n",
      "429482178645606400\n"
     ]
    }
   ],
   "source": [
    "#Task 6\n",
    "\n",
    "file = open('CrimeReport.txt', 'r')\n",
    "list = file.readlines()\n",
    "for item in list:\n",
    "    tweet = json.loads(item)\n",
    "    print(tweet['id'])\n",
    "file.close()"
   ]
  },
  {
   "cell_type": "code",
   "execution_count": 83,
   "id": "26cae44c-7025-4651-bb35-0d078705a0c6",
   "metadata": {},
   "outputs": [],
   "source": [
    "#Task 7\n",
    "import datetime\n",
    "\n",
    "#Get list of tweets\n",
    "tweets = []\n",
    "for item in list:\n",
    "    tweet = json.loads(item)\n",
    "    tweets.append(tweet)\n",
    "\n",
    "#Sort tweets by date\n",
    "sorted_tweets = sorted(tweets, key = lambda item : datetime.datetime.strptime(item['created_at'], '%a %b %d %H:%M:%S +0000 %Y'))\n",
    "\n",
    "#Write 10 last tweets into file\n",
    "file = open('task7.data', 'w')\n",
    "for tweet in sorted_tweets[-10:]:\n",
    "    file.write(json.dumps(tweet)+'\\n')"
   ]
  },
  {
   "cell_type": "code",
   "execution_count": 85,
   "id": "016c16aa-7f67-4c48-a4bb-af043afc1eb7",
   "metadata": {},
   "outputs": [],
   "source": [
    "#Task 8\n",
    "\n",
    "import os\n",
    "\n",
    "#Store the earliest date as our current datetime\n",
    "current_dt = datetime.datetime.strptime(sorted_tweets[0]['created_at'], '%a %b %d %H:%M:%S +0000 %Y')\n",
    "\n",
    "#Create the output folder, if it does not already exist\n",
    "parent_dir = \"/Users/neelaychakravarthy/csci 185/hw1/\"\n",
    "path = os.path.join(parent_dir, 'task8-output')\n",
    "try:\n",
    "    os.makedirs(path)\n",
    "except FileExistsError:\n",
    "    print(\"Folder already exists\")\n",
    "\n",
    "#Create the first file based on the first tweet's datetime in sorted list\n",
    "new_file = str(current_dt.month)+'-'+str(current_dt.day)+'-'+str(current_dt.year)+'-'+str(current_dt.hour)+'.txt'\n",
    "file = open(path+'/'+new_file, 'w')\n",
    "\n",
    "#Iterate through sorted tweets\n",
    "for tweet in sorted_tweets:\n",
    "    #If the current tweet is at a different hour than the previous, update our current datetime and create the new file\n",
    "    if(datetime.datetime.strptime(tweet['created_at'], '%a %b %d %H:%M:%S +0000 %Y').hour != current_dt.hour or \n",
    "      datetime.datetime.strptime(tweet['created_at'], '%a %b %d %H:%M:%S +0000 %Y').day != current_dt.day):\n",
    "        current_dt = datetime.datetime.strptime(tweet['created_at'], '%a %b %d %H:%M:%S +0000 %Y')\n",
    "        new_file = str(current_dt.month)+'-'+str(current_dt.day)+'-'+str(current_dt.year)+'-'+str(current_dt.hour)+'.txt'\n",
    "        file = open(path+'/'+new_file, 'w')\n",
    "    #Write the tweet to the file after doing any necessary updates\n",
    "    file.write(json.dumps(tweet)+'\\n')\n",
    "file.close()"
   ]
  },
  {
   "cell_type": "code",
   "execution_count": null,
   "id": "b65f24b1-0731-4a48-8ba4-ff94f9865011",
   "metadata": {},
   "outputs": [],
   "source": []
  }
 ],
 "metadata": {
  "kernelspec": {
   "display_name": "Python 3 (ipykernel)",
   "language": "python",
   "name": "python3"
  },
  "language_info": {
   "codemirror_mode": {
    "name": "ipython",
    "version": 3
   },
   "file_extension": ".py",
   "mimetype": "text/x-python",
   "name": "python",
   "nbconvert_exporter": "python",
   "pygments_lexer": "ipython3",
   "version": "3.11.5"
  }
 },
 "nbformat": 4,
 "nbformat_minor": 5
}
