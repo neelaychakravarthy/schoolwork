{
 "cells": [
  {
   "cell_type": "markdown",
   "metadata": {},
   "source": [
    "# Numerically approximating the solution to a differential equation with an initial condition using Euler's method"
   ]
  },
  {
   "cell_type": "code",
   "execution_count": 86,
   "metadata": {},
   "outputs": [],
   "source": [
    "import time  # This library is necessary to keep track of the amount of time the code needs to run."
   ]
  },
  {
   "cell_type": "code",
   "execution_count": 114,
   "metadata": {},
   "outputs": [],
   "source": [
    "initial_y_value = 2.0  #Value of y at t = 0\n",
    "h = 0.001  # h is the time step, delta t\n",
    "T = 6.0  # T is the time where we want to approximate the unknown function y.  \n",
    "         # T needs to be an integer multiple of h.\n",
    "N = int(T/h)"
   ]
  },
  {
   "cell_type": "code",
   "execution_count": 115,
   "metadata": {},
   "outputs": [],
   "source": [
    "import math\n",
    "def f(t,y):\n",
    "# INSERT YOUR CODE HERE!\n",
    "    return t**3+math.sqrt(y*t)"
   ]
  },
  {
   "cell_type": "code",
   "execution_count": 116,
   "metadata": {},
   "outputs": [
    {
     "name": "stdout",
     "output_type": "stream",
     "text": [
      "At time = 6.000000000000338 y is approximately = 417.1808335656939\n",
      "\n",
      "This took 0.0045639999999878 seconds.\n"
     ]
    }
   ],
   "source": [
    "#MAIN\n",
    "start = time.process_time() # This starts the clock for determining how long your program takes to run.\n",
    "\n",
    "t = 0  #initial t value\n",
    "y = initial_y_value\n",
    "for i in range (N):\n",
    "    # INSERT YOUR CODE HERE!\n",
    "    y+=f(t, y)*h\n",
    "    t+=h\n",
    "\n",
    "print(\"At time =\", t, \"y is approximately =\", y)    # Your t should equal T here!\n",
    "print(\"\")\n",
    "print(\"This took\", time.process_time() - start, \"seconds.\")  # This tells you how long your program took to run."
   ]
  },
  {
   "cell_type": "code",
   "execution_count": null,
   "metadata": {},
   "outputs": [],
   "source": []
  }
 ],
 "metadata": {
  "kernelspec": {
   "display_name": "Python 3 (ipykernel)",
   "language": "python",
   "name": "python3"
  },
  "language_info": {
   "codemirror_mode": {
    "name": "ipython",
    "version": 3
   },
   "file_extension": ".py",
   "mimetype": "text/x-python",
   "name": "python",
   "nbconvert_exporter": "python",
   "pygments_lexer": "ipython3",
   "version": "3.11.5"
  }
 },
 "nbformat": 4,
 "nbformat_minor": 4
}
