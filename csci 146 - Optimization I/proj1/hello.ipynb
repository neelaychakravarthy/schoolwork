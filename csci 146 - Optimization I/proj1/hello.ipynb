{
 "cells": [
  {
   "cell_type": "code",
   "execution_count": 14,
   "id": "f2c784c2-3865-43b6-876a-c1e410835a92",
   "metadata": {},
   "outputs": [
    {
     "name": "stdout",
     "output_type": "stream",
     "text": [
      "(1) Du blöde Kuh, (2) spießig, (3) Ich würde mich lieber ins Knie ficken, (4) Du Weichei, (5) Fahr zur Hölle, (6) Verdammter Scheiß!, (7) Heißluftgebläse, (8) Tee-Trinker, (9) Teletubbyzurückwinker, (10) Hustensaftschmuggler\n"
     ]
    }
   ],
   "source": [
    "#Project Instructions:\n",
    "#Write a simple Python program that prints out text.\n",
    "#The text is up to you, but please show some restraint and limit yourself to\n",
    "#fourteen or fewer obscenities.\n",
    "#Note: The key here is 14 or fewer obscenities\n",
    "\n",
    "\n",
    "insults_in_german_i_find_funny_or_interesting = '(1) Du blöde Kuh, (2) spießig, (3) Ich würde mich lieber ins Knie ficken, (4) Du Weichei, (5) Fahr zur Hölle, (6) Verdammter Scheiß!, (7) Heißluftgebläse, (8) Tee-Trinker, (9) Teletubbyzurückwinker, (10) Hustensaftschmuggler' \n",
    "                                                # you stupid cow   bourgeosie       i'd rather f*** myself in my knee          you wimp        drive to hell       bloody hell             hot-air gun       tea drinker   one who waves back at teletubbies   one who smuggles cough-syrup\n",
    "print (insults_in_german_i_find_funny_or_interesting)\n"
   ]
  },
  {
   "cell_type": "code",
   "execution_count": null,
   "id": "c54844c2-54d6-40de-9ab5-452d88b74140",
   "metadata": {},
   "outputs": [],
   "source": []
  }
 ],
 "metadata": {
  "kernelspec": {
   "display_name": "Python 3 (ipykernel)",
   "language": "python",
   "name": "python3"
  },
  "language_info": {
   "codemirror_mode": {
    "name": "ipython",
    "version": 3
   },
   "file_extension": ".py",
   "mimetype": "text/x-python",
   "name": "python",
   "nbconvert_exporter": "python",
   "pygments_lexer": "ipython3",
   "version": "3.11.5"
  }
 },
 "nbformat": 4,
 "nbformat_minor": 5
}
