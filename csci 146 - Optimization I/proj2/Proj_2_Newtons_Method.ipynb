{
 "cells": [
  {
   "cell_type": "code",
   "execution_count": 1,
   "id": "5b2db5a0",
   "metadata": {},
   "outputs": [],
   "source": [
    "# %pylab inline  #if you uncomment this, you do not need to specify \"np.\" or \"np.linalg.\" in the code.\n",
    "import numpy as np"
   ]
  },
  {
   "cell_type": "markdown",
   "id": "9e352680",
   "metadata": {},
   "source": [
    "This code gives Newton's method for minimizing a function.  The code is for a function of 2 variables, but can easily be altered for a function of n variables.  It assumes that the Hessian matrix is strictly positive definite at each Newton step, and prints an error message if this condition fails."
   ]
  },
  {
   "cell_type": "code",
   "execution_count": 33,
   "id": "86770b72",
   "metadata": {},
   "outputs": [],
   "source": [
    "def f (x):  #This returns the output of the function exp(x^2 + y^2).  Note that x=x[0] and y=x[1] in the program.\n",
    "    # INSERT YOUR CODE HERE!\n",
    "    func = 0.5*np.transpose(x).dot(np.array([[14, 3, -2, 1], [3, 15, -3, 0], [2, -3, 20, 0], [0, 2, 1, 12]])).dot(x) + np.transpose(np.array([3, 7, -12, 4])).dot(x) + 5 + np.log(np.exp(x[0]) + np.exp(x[1]))\n",
    "    return func\n"
   ]
  },
  {
   "cell_type": "code",
   "execution_count": 34,
   "id": "1cf896cb",
   "metadata": {},
   "outputs": [],
   "source": [
    "def grad_f (x):  #This returns the gradient of the function exp(x^2 + y^2).\n",
    "    grad = np.zeros(len(x))  #This declares grad as a numpy array (vector) initalized to be 0 at each entry.\n",
    "    # INSERT YOUR CODE HERE!\n",
    "    grad = np.array([[14, 3, -2, 1], [3, 15, -3, 0], [2, -3, 20, 0], [0, 2, 1, 12]]).dot(x) + np.array([3, 7, -12, 4])\n",
    "    grad[0] += x[0]*np.exp(x[0])/(np.exp(x[0])+np.exp(x[1]))\n",
    "    grad[1] += x[1]*np.exp(x[1])/(np.exp(x[0])+np.exp(x[1]))\n",
    "    return grad\n"
   ]
  },
  {
   "cell_type": "code",
   "execution_count": 42,
   "id": "98492aa5",
   "metadata": {},
   "outputs": [],
   "source": [
    "def hess_f (x):  #This returns the Hessian matrix for a specific function like exp(x^2 + y^2).\n",
    "    hess = np.zeros((len(x), len(x))) #This declares hess as a numpy array (square matrix) initalized to be 0 at each entry.\n",
    "    # INSERT YOUR CODE HERE!\n",
    "    hess = np.array([[14, 3, -2, 1], [3, 15, -3, 0], [2, -3, 20, 0], [0, 2, 1, 12]])\n",
    "    hess[0, 0] += np.exp(x[0])*(np.exp(x[0]) + x[0]*np.exp(x[1]) + np.exp(x[1]))/((np.exp(x[0]) + np.exp(x[1]))**2)\n",
    "    hess[0, 1] += (-x[0]*np.exp(x[0]+x[1]))/((np.exp(x[0]) + np.exp(x[1]))**2)\n",
    "    hess[1, 0] += (-x[1]*np.exp(x[0]+x[1]))/((np.exp(x[0]) + np.exp(x[1]))**2)\n",
    "    hess[1, 1] += np.exp(x[1])*(np.exp(x[1]) + x[1]*np.exp(x[0]) + np.exp(x[0]))/((np.exp(x[0]) + np.exp(x[1]))**2)\n",
    "    if not (np.all(np.linalg.eigvals(hess) > 0)): # INSERT YOUR CODE HERE!:  #Check that the Hessian matrix is positive definite\n",
    "        print(\"This Hessian matrix is not positive definite here, so Newton's method is not appropriate at this step.\")\n",
    "    return hess\n"
   ]
  },
  {
   "cell_type": "code",
   "execution_count": 40,
   "id": "566c98c7",
   "metadata": {},
   "outputs": [],
   "source": [
    "def Newton_step (x0):  #Given a point x0=(x_i,y_i), this function returns the next point x1=(x_(i+1), y_(i+1)) after a Newton step.\n",
    "    # INSERT YOUR CODE HERE! (This will depend on grad_f and hess_f)\n",
    "    x1 = x0 - np.linalg.inv(hess_f(x0)).dot(grad_f(x0))\n",
    "    return x1\n"
   ]
  },
  {
   "cell_type": "code",
   "execution_count": 41,
   "id": "5ea5e87c",
   "metadata": {},
   "outputs": [
    {
     "name": "stdout",
     "output_type": "stream",
     "text": [
      "(x,y)= [2, 3, 4, 5]\n",
      "f(x,y)= 424.8132616875182\n",
      "\n",
      "Iteration 1 :\n",
      "(x,y)= [-0.27248687 -0.3584103   0.57348714 -0.32138888]\n",
      "f(x,y)= 0.25312277979872644\n",
      "\n",
      "Iteration 2 :\n",
      "(x,y)= [-0.02958011 -0.33889173  0.55212425 -0.32286173]\n",
      "f(x,y)= 0.3006995242770256\n",
      "\n",
      "Iteration 3 :\n",
      "(x,y)= [-0.03839254 -0.33882183  0.55301598 -0.32294769]\n",
      "f(x,y)= 0.28369460737923213\n",
      "\n",
      "Iteration 4 :\n",
      "(x,y)= [-0.03803492 -0.33885444  0.55297532 -0.32293887]\n",
      "f(x,y)= 0.28435616746522796\n",
      "\n",
      "Iteration 5 :\n",
      "(x,y)= [-0.03804948 -0.33885241  0.55297709 -0.32293936]\n",
      "f(x,y)= 0.2843293445022209\n",
      "\n",
      "Iteration 6 :\n",
      "(x,y)= [-0.03804889 -0.33885251  0.55297701 -0.32293933]\n",
      "f(x,y)= 0.2843304381806693\n",
      "\n",
      "Stopping criterion reached after iteration 6\n"
     ]
    }
   ],
   "source": [
    "x0= np.zeros(2) #This declares x0 as a numpy array (vector of length 2) \n",
    "                     # initalized to be 0 at each entry.\n",
    "x0=[2, 3, 4, 5] #Initial guess for (x,y), which is (x[0],x[1]) in the program.\n",
    "print(\"(x,y)=\", x0)\n",
    "print(\"f(x,y)=\", f(x0))\n",
    "print(\"\")\n",
    "\n",
    "# rel_x_tol = 0.001  #Stopping criterion using the proximity of two successive inputs\n",
    "rel_y_tol = 0.00001  #Stopping criterion using the proximity of two successive outputs\n",
    "flag = False  #Becomes \"True\" if stopping criterion is achieved.\n",
    "max_iter = 100 #Maximum number of Newton iterations before the program gives up if \n",
    "                        # the stopping criterion isn't reached.\n",
    "\n",
    "for i in range(max_iter):\n",
    "    x1 = Newton_step(x0)\n",
    "    print(\"Iteration\",i+1, \":\")\n",
    "    print(\"(x,y)=\", x1)\n",
    "    print(\"f(x,y)=\", f(x1))\n",
    "    print(\"\")\n",
    "#     if (np.linalg.norm(x0-x1)/max(np.linalg.norm(x0),0.001) < rel_x_tol):  \n",
    "                            #Terminating code using the proximity of two successive inputs\n",
    "#         flag = True\n",
    "    if (abs((f(x0)-f(x1))/max(abs(f(x0)),0.001)) < rel_y_tol):  \n",
    "                            #Terminating code using the proximity of two successive outputs\n",
    "        flag = True\n",
    "    if flag == True:\n",
    "        print(\"Stopping criterion reached after iteration\", i+1)\n",
    "        break\n",
    "    x0= x1\n",
    "if flag == False:\n",
    "    print(\"Stopping criterion never reached. Programs stopped after\", max_iter, \"iterations.\")\n",
    "    "
   ]
  },
  {
   "cell_type": "code",
   "execution_count": null,
   "id": "e637e3b9",
   "metadata": {},
   "outputs": [],
   "source": []
  }
 ],
 "metadata": {
  "kernelspec": {
   "display_name": "Python 3 (ipykernel)",
   "language": "python",
   "name": "python3"
  },
  "language_info": {
   "codemirror_mode": {
    "name": "ipython",
    "version": 3
   },
   "file_extension": ".py",
   "mimetype": "text/x-python",
   "name": "python",
   "nbconvert_exporter": "python",
   "pygments_lexer": "ipython3",
   "version": "3.11.5"
  }
 },
 "nbformat": 4,
 "nbformat_minor": 5
}
