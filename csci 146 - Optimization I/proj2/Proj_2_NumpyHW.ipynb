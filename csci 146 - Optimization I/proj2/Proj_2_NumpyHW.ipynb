{
 "cells": [
  {
   "cell_type": "code",
   "execution_count": 8,
   "metadata": {},
   "outputs": [],
   "source": [
    "import numpy as np\n",
    "import time"
   ]
  },
  {
   "cell_type": "code",
   "execution_count": 9,
   "metadata": {},
   "outputs": [],
   "source": [
    "def nearest(vec,value):\n",
    "# takes a vector (numpy array) and a value (number) and returns [0] the index of the entry in the vector \n",
    "# that is closest to the value and [1] the value in the vector closest to the value\n",
    "\n",
    "    i = np.argmin(abs(vec-value))\n",
    "    c = vec[i]\n",
    "    \n",
    "    return i,c"
   ]
  },
  {
   "cell_type": "code",
   "execution_count": 10,
   "metadata": {},
   "outputs": [
    {
     "name": "stdout",
     "output_type": "stream",
     "text": [
      "The value of the vector at index 3 is 7 which is as close to the value 7.5 as the vector's values get.\n"
     ]
    }
   ],
   "source": [
    "V = np.array([1,3,5,7,9])\n",
    "number = 7.5\n",
    "index, closest = nearest(V,number) # Could equivalently be written as index = nearest(V,7.5)[0]; closest = nearest(V,7.5)[1]\n",
    "\n",
    "print(\"The value of the vector at index\", index,\"is\", closest, \\\n",
    "      \"which is as close to the value\", number,\"as the vector's values get.\")\n"
   ]
  },
  {
   "cell_type": "code",
   "execution_count": 13,
   "metadata": {},
   "outputs": [],
   "source": [
    "def truncated_min(vec1, vec2):\n",
    "# Takes two vectors, checks that they're the same size, n, and that n is greater than 2. If this isn't true, \n",
    "# it returns a string that says \"error\".  If it it true, it removes the first and last entries of both vectors\n",
    "# and then returns the element-wise minimum of each pair.  So, for example, if the numpy vector inputs are \n",
    "# [4,5,6,7,8,9] and [9,8,7,-4,7,4], the output should be [5,6,-4,7].\n",
    "\n",
    "    # INSERT YOUR CODE HERE!\n",
    "    if vec1.size!= vec2.size or vec1.size <= 2:\n",
    "        return \"error\"\n",
    "    else:\n",
    "        trunc_min_vec = np.zeros(vec1.size-2)\n",
    "        for i in range(vec1.size-2):\n",
    "            trunc_min_vec[i] = min(vec1[i+1], vec2[i+1])\n",
    "        return trunc_min_vec"
   ]
  },
  {
   "cell_type": "code",
   "execution_count": 14,
   "metadata": {},
   "outputs": [
    {
     "name": "stdout",
     "output_type": "stream",
     "text": [
      "[ 5.   6.  -4.   6.9]\n"
     ]
    }
   ],
   "source": [
    "print(truncated_min(np.array([4,5,6,7,6.9,9]), np.array([9,8,7,-4,7,4])))"
   ]
  },
  {
   "cell_type": "code",
   "execution_count": 15,
   "metadata": {},
   "outputs": [],
   "source": [
    "def solve_Ax_equals_b(A,b):\n",
    "# Checks that A is nxn and is invertible and that b is an n-vector.  If not, the function returns an \n",
    "# \"error\" string.  Otherwise, it returns the n-vector x, which is the solution to Ax=b.\n",
    "\n",
    "    # INSERT YOUR CODE HERE!\n",
    "    if np.linalg.det(A) == 0 or np.shape(A)[0] != np.shape(A)[1]:\n",
    "        return \"error\"\n",
    "    else:\n",
    "        return np.linalg.inv(A).dot(b)"
   ]
  },
  {
   "cell_type": "code",
   "execution_count": 16,
   "metadata": {},
   "outputs": [
    {
     "name": "stdout",
     "output_type": "stream",
     "text": [
      "[ 1.17391304 -0.13043478]\n"
     ]
    }
   ],
   "source": [
    "M = np.array([[3,4],[-4,10]])\n",
    "v = np.array([3,-6]) # Note that we can get away with inputing this column vector as a row vector\n",
    "x = solve_Ax_equals_b(M,v)\n",
    "print(x)  # Note that this column vector is printed as a row vector because it's easier to read."
   ]
  },
  {
   "cell_type": "code",
   "execution_count": null,
   "metadata": {},
   "outputs": [],
   "source": []
  }
 ],
 "metadata": {
  "kernelspec": {
   "display_name": "Python 3 (ipykernel)",
   "language": "python",
   "name": "python3"
  },
  "language_info": {
   "codemirror_mode": {
    "name": "ipython",
    "version": 3
   },
   "file_extension": ".py",
   "mimetype": "text/x-python",
   "name": "python",
   "nbconvert_exporter": "python",
   "pygments_lexer": "ipython3",
   "version": "3.11.5"
  }
 },
 "nbformat": 4,
 "nbformat_minor": 4
}
